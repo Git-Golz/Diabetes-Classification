{
 "cells": [
  {
   "cell_type": "markdown",
   "id": "56740698",
   "metadata": {},
   "source": [
    "## Influenza Behavior 1997-2022: Visual Illustrations of Outbreaks and Beyond"
   ]
  },
  {
   "cell_type": "markdown",
   "id": "3e4dae1a",
   "metadata": {},
   "source": [
    "###### Background"
   ]
  },
  {
   "cell_type": "markdown",
   "id": "2b303060",
   "metadata": {},
   "source": [
    "Seasonal influenza outbreaks of influenza are a frequent threat to public health. Circulating viruses cause disease in domestic and wild animals. Viral mutations in wild species are a source of zoonotic diseases, and pandemics such as the Influenza outbreak of 1918 and the H3N2 outbreak of 2009 [1]. While outbreaks circulate seasonally, there are periodic pandemics that lead to high rates of hospitalization and unexpectedly high mortality [2].\n",
    "\n",
    "Influenza A is the only known cause of pandemic outbreaks, with swine and avian strains representing important sources of novel strains causing severe disease in humans [1, 2]. As such, monitoring future outbreaks requires not only observation of seasonal trends in humans, but also monitoring  of animal population healthing [3]. \n",
    "\n",
    "Influenza's seasonality makes it a useful illustration for circulating disease and how disease dynamics change over time, in addition to the effect of a pandemic outbreak on those dynamics. In this project, I use 26 years of data collected by the CDC to illustrate: 1) Graphical appearances of the 2009 H1N1 pandemic, 2) Possible extinction of an Influenza B strain, and 3) Differences (or lack thereof) between age groups and seasons proportions of flu subtypes reported. "
   ]
  },
  {
   "cell_type": "markdown",
   "id": "200b6241",
   "metadata": {},
   "source": [
    "###### Methodology"
   ]
  },
  {
   "cell_type": "markdown",
   "id": "5eaae6c4",
   "metadata": {},
   "source": [
    "The United States Centers for Disease Control (CDC) offers a tools to view nationally-pooled data for mortality, hospitalization, virologic surveillance data. For this exercise, I queried the CDC's FluView tool to examine data for the subtypes of Influenza A and Influenza B aggregated by season and age group. The most recent data at the time of query included the 2022-2023 flu season. My interest was in subtype and lineage characteristics in the two types of Influenza capable of circulating in humans, type A and type B. As such, I chose to include a wide time range. Because I was interested in changes in subtype between years, I chose a 25 year timespan minimally so that visualizations included at least 2 decades and to better illustrate the emergence of the 2009 pandemic compared to earlier decades. During the query, I also included all categories of Influenza A and B subtypes and lineages respectively, as well as each age group category. After the query, the raw data was saved as a CSV file for later use. \n",
    "\n",
    "From here, Python and relevant libraries including pandas and matplot lib were implemented throughout the project. Code and explanations about how the data were processed is detailed in future sections."
   ]
  },
  {
   "cell_type": "markdown",
   "id": "264dcab2",
   "metadata": {},
   "source": [
    "###### Data Cleaning"
   ]
  },
  {
   "cell_type": "markdown",
   "id": "cdbabb90",
   "metadata": {},
   "source": [
    "Having addressed what quesestions the project was designed to answer and collected initial data, I began first with cleaning the data. Fortunately, the queried data was already reasonably clean. In order to evaluate all flu data, I did an outer join on separate dataframes (1997-2015,2016-present). Because data prior to 2015 didn't subtype influenza strains I filled the NaN columns with zeros. \n",
    "Detailed below is the code used to better utilize the data for this project."
   ]
  },
  {
   "cell_type": "code",
   "execution_count": 1,
   "id": "2dd8b620",
   "metadata": {},
   "outputs": [],
   "source": [
    "import pandas as pd\n",
    "import numpy as np\n",
    "import matplotlib.pyplot as plt\n",
    "import seaborn as sns"
   ]
  },
  {
   "cell_type": "code",
   "execution_count": 2,
   "id": "61dc148d",
   "metadata": {},
   "outputs": [],
   "source": [
    "prior_2015 = pd.read_csv('WHO_NREVSS_Combined_prior_to_2015_16.csv',header=1)\n",
    "post_2015 = pd.read_csv('WHO_NREVSS_Public_Health_Labs.csv',header=1)"
   ]
  },
  {
   "cell_type": "code",
   "execution_count": 11,
   "id": "6b58576b",
   "metadata": {},
   "outputs": [
    {
     "name": "stdout",
     "output_type": "stream",
     "text": [
      "<class 'pandas.core.frame.DataFrame'>\n",
      "RangeIndex: 479 entries, 0 to 478\n",
      "Data columns (total 13 columns):\n",
      " #   Column                       Non-Null Count  Dtype \n",
      "---  ------                       --------------  ----- \n",
      " 0   REGION TYPE                  479 non-null    object\n",
      " 1   REGION                       479 non-null    object\n",
      " 2   YEAR                         479 non-null    int64 \n",
      " 3   WEEK                         479 non-null    int64 \n",
      " 4   TOTAL SPECIMENS              479 non-null    int64 \n",
      " 5   A (2009 H1N1)                479 non-null    int64 \n",
      " 6   A (H3)                       479 non-null    int64 \n",
      " 7   A (Subtyping not Performed)  479 non-null    int64 \n",
      " 8   B                            479 non-null    int64 \n",
      " 9   BVic                         479 non-null    int64 \n",
      " 10  BYam                         479 non-null    int64 \n",
      " 11  H3N2v                        479 non-null    int64 \n",
      " 12  A (H5)                       479 non-null    int64 \n",
      "dtypes: int64(11), object(2)\n",
      "memory usage: 48.8+ KB\n",
      "<class 'pandas.core.frame.DataFrame'>\n",
      "RangeIndex: 940 entries, 0 to 939\n",
      "Data columns (total 14 columns):\n",
      " #   Column                       Non-Null Count  Dtype  \n",
      "---  ------                       --------------  -----  \n",
      " 0   REGION TYPE                  940 non-null    object \n",
      " 1   REGION                       940 non-null    object \n",
      " 2   YEAR                         940 non-null    int64  \n",
      " 3   WEEK                         940 non-null    int64  \n",
      " 4   TOTAL SPECIMENS              940 non-null    int64  \n",
      " 5   PERCENT POSITIVE             940 non-null    float64\n",
      " 6   A (2009 H1N1)                940 non-null    int64  \n",
      " 7   A (H1)                       940 non-null    int64  \n",
      " 8   A (H3)                       940 non-null    int64  \n",
      " 9   A (Subtyping not Performed)  940 non-null    int64  \n",
      " 10  A (Unable to Subtype)        940 non-null    int64  \n",
      " 11  B                            940 non-null    int64  \n",
      " 12  H3N2v                        940 non-null    int64  \n",
      " 13  A (H5)                       940 non-null    int64  \n",
      "dtypes: float64(1), int64(11), object(2)\n",
      "memory usage: 102.9+ KB\n"
     ]
    }
   ],
   "source": [
    "post_2015.info()\n",
    "prior_2015.info()"
   ]
  },
  {
   "cell_type": "code",
   "execution_count": 13,
   "id": "01127f35-66dc-4bda-bf5f-2129c1003f53",
   "metadata": {},
   "outputs": [],
   "source": [
    "df=post_2015.merge(prior_2015,how='outer')"
   ]
  },
  {
   "cell_type": "code",
   "execution_count": 15,
   "id": "be55e593-77d2-4887-b269-188ee96a9fc6",
   "metadata": {},
   "outputs": [
    {
     "name": "stdout",
     "output_type": "stream",
     "text": [
      "<class 'pandas.core.frame.DataFrame'>\n",
      "RangeIndex: 1419 entries, 0 to 1418\n",
      "Data columns (total 16 columns):\n",
      " #   Column                       Non-Null Count  Dtype  \n",
      "---  ------                       --------------  -----  \n",
      " 0   REGION TYPE                  1419 non-null   object \n",
      " 1   REGION                       1419 non-null   object \n",
      " 2   YEAR                         1419 non-null   int64  \n",
      " 3   WEEK                         1419 non-null   int64  \n",
      " 4   TOTAL SPECIMENS              1419 non-null   int64  \n",
      " 5   A (2009 H1N1)                1419 non-null   int64  \n",
      " 6   A (H3)                       1419 non-null   int64  \n",
      " 7   A (Subtyping not Performed)  1419 non-null   int64  \n",
      " 8   B                            1419 non-null   int64  \n",
      " 9   BVic                         479 non-null    float64\n",
      " 10  BYam                         479 non-null    float64\n",
      " 11  H3N2v                        1419 non-null   int64  \n",
      " 12  A (H5)                       1419 non-null   int64  \n",
      " 13  PERCENT POSITIVE             940 non-null    float64\n",
      " 14  A (H1)                       940 non-null    float64\n",
      " 15  A (Unable to Subtype)        940 non-null    float64\n",
      "dtypes: float64(5), int64(9), object(2)\n",
      "memory usage: 177.5+ KB\n"
     ]
    }
   ],
   "source": [
    "df.info()"
   ]
  },
  {
   "cell_type": "code",
   "execution_count": 17,
   "id": "3a564b72-9af4-4511-812c-c439fd7c1ac9",
   "metadata": {},
   "outputs": [],
   "source": [
    "df=df.replace(np.nan,0)"
   ]
  },
  {
   "cell_type": "code",
   "execution_count": 23,
   "id": "7945da31-d59f-41d0-a6b8-6ef1f574cd0a",
   "metadata": {},
   "outputs": [
    {
     "data": {
      "text/plain": [
       "REGION TYPE                    0\n",
       "REGION                         0\n",
       "YEAR                           0\n",
       "WEEK                           0\n",
       "TOTAL SPECIMENS                0\n",
       "A (2009 H1N1)                  0\n",
       "A (H3)                         0\n",
       "A (Subtyping not Performed)    0\n",
       "B                              0\n",
       "BVic                           0\n",
       "BYam                           0\n",
       "H3N2v                          0\n",
       "A (H5)                         0\n",
       "PERCENT POSITIVE               0\n",
       "A (H1)                         0\n",
       "A (Unable to Subtype)          0\n",
       "dtype: int64"
      ]
     },
     "execution_count": 23,
     "metadata": {},
     "output_type": "execute_result"
    }
   ],
   "source": [
    "df.isnull().sum()"
   ]
  },
  {
   "cell_type": "code",
   "execution_count": null,
   "id": "c9e7c37e",
   "metadata": {},
   "outputs": [],
   "source": [
    "df = df.rename(columns={'Age Group':'Age_Group', 'A (H1)':'A_H1', \n",
    "                        'A (H3)':'A_H3', 'A (H1N1)pdm09':'A_H1N1_pdm09',\n",
    "                        'B (Victoria Lineage)':'B_Victoria_Lineage',\n",
    "                        'B (Yamagata Lineage)':'B_Yamagata_Lineage',\n",
    "                        'B (Lineage Unspecified)':'B_Unspecified_Lineage',\n",
    "                        'H3N2v':'A_H3N2v'})"
   ]
  },
  {
   "cell_type": "markdown",
   "id": "827a8269",
   "metadata": {},
   "source": [
    "When preparing to change the column types, I realized that formatting within the 'Season' column presented difficulties. As formatted, it wouldn't convert appropriately to datetime. Additionally, early visualizations of flu subtypes by season were visually confusing with the seasons labelled as ranges on a graph. In the interest of making comprehensible visualizations, I used a regular expression to remove the end date of the range. Furthermore, I converted the 'Season' column to period after converting to date time. Because flu seasons don't start and end on January 1 and no further date information was provided from FluView, I thought including a starting date and month would be misleading. "
   ]
  },
  {
   "cell_type": "code",
   "execution_count": null,
   "id": "ab4ad825",
   "metadata": {},
   "outputs": [],
   "source": [
    "df[\"Age_Group\"] = df['Age_Group'].astype(\"category\")"
   ]
  },
  {
   "cell_type": "code",
   "execution_count": null,
   "id": "2e301280",
   "metadata": {},
   "outputs": [],
   "source": [
    "df[\"Season\"] = df[\"Season\"].str.replace(r'-\\d\\d$', '', regex=True) #strips end date from 'Season' column"
   ]
  },
  {
   "cell_type": "code",
   "execution_count": null,
   "id": "cf9de91b",
   "metadata": {},
   "outputs": [],
   "source": [
    "df[\"Season\"] = pd.to_datetime(df[\"Season\"])"
   ]
  },
  {
   "cell_type": "code",
   "execution_count": null,
   "id": "a584bbc2",
   "metadata": {},
   "outputs": [],
   "source": [
    "df[\"Season\"] = df[\"Season\"].dt.to_period('Y')"
   ]
  },
  {
   "cell_type": "code",
   "execution_count": null,
   "id": "15f319d8",
   "metadata": {},
   "outputs": [],
   "source": [
    "df[\"A_Subtype_not_Available\"] = df.loc[:,[\"A (Unable to Subtype)\",\n",
    "                                          \"A (Subtyping not Performed)\"]].sum(axis=1)"
   ]
  },
  {
   "cell_type": "code",
   "execution_count": null,
   "id": "2de60d91",
   "metadata": {},
   "outputs": [],
   "source": [
    "df = df.drop([\"A (Unable to Subtype)\", \"A (Subtyping not Performed)\"], axis=1) \n",
    "#now that the aggregated column exists, these columns are redundant and I dropped them"
   ]
  },
  {
   "cell_type": "code",
   "execution_count": null,
   "id": "020ecb20",
   "metadata": {},
   "outputs": [],
   "source": [
    "cols = df.columns.tolist() #separating column data into a list makes it easier to change the structure of the dataframe"
   ]
  },
  {
   "cell_type": "code",
   "execution_count": null,
   "id": "f31a6517",
   "metadata": {},
   "outputs": [],
   "source": [
    "cols = cols[0:5] + cols[8:] + cols[5:8]"
   ]
  },
  {
   "cell_type": "code",
   "execution_count": null,
   "id": "568f9f1f",
   "metadata": {},
   "outputs": [],
   "source": [
    "df = df[cols] #updates the dataframe to include the new arrangement"
   ]
  },
  {
   "cell_type": "code",
   "execution_count": null,
   "id": "bba664bd",
   "metadata": {},
   "outputs": [],
   "source": [
    "df.info() #just to display what the columns look like so far"
   ]
  },
  {
   "cell_type": "markdown",
   "id": "ce08f3cc",
   "metadata": {},
   "source": [
    "At least for now, the data cleaning process is complete!"
   ]
  },
  {
   "cell_type": "markdown",
   "id": "33e84827",
   "metadata": {},
   "source": [
    "###### Preliminary Analysis"
   ]
  },
  {
   "cell_type": "markdown",
   "id": "c695aef8",
   "metadata": {},
   "source": [
    "I began my analysis by examining summary statistics. The pandas commond DataFrame.describe() usually provides some of the most important summary statistics. For this project, I was interested in eventually building boxplots to show variability of case spread. Thus, I thought it would be helpful to include interquartile range instead.\n",
    "\n",
    "The python library scipy does provide statistical functions to calculate interquartile range. However, I developed a custom formula to calculate the interquartile range with ease by piggybacking off of pandas' DataFrame.quantile() function."
   ]
  },
  {
   "cell_type": "code",
   "execution_count": null,
   "id": "2439ff57",
   "metadata": {},
   "outputs": [],
   "source": [
    "def iqr(arg):\n",
    "    q1 = arg.quantile(q=0.25, axis=0, numeric_only=True, method='single')\n",
    "    q3 = arg.quantile(q=0.75, axis=0, numeric_only=True, method='single')\n",
    "    range = q3-q1\n",
    "    return range"
   ]
  },
  {
   "cell_type": "code",
   "execution_count": null,
   "id": "018eed9a",
   "metadata": {},
   "outputs": [],
   "source": [
    "summary_stats = pd.DataFrame({'Mean':df.mean(axis=0, numeric_only=True),\n",
    "         'Median':df.median(axis=0, numeric_only=True),\n",
    "         'Max':df.max(axis=0, numeric_only=True), \n",
    "         'Min':df.min(axis=0, numeric_only=True),\n",
    "         'StDev':df.std(axis=0, numeric_only=True),\n",
    "         'Q1':df.quantile(q=0.25, axis=0, numeric_only=True, method='single'),\n",
    "         'Q3':df.quantile(q=0.75, axis=0, numeric_only=True, method='single'),\n",
    "         'IQR':iqr(df)})"
   ]
  },
  {
   "cell_type": "code",
   "execution_count": null,
   "id": "ec7746e4",
   "metadata": {
    "scrolled": true
   },
   "outputs": [],
   "source": [
    "summary_stats"
   ]
  },
  {
   "cell_type": "markdown",
   "id": "fba4d105",
   "metadata": {},
   "source": [
    "At first glance, this dataset looks strange. Not only are half of this data sets' medians equal to zero, but the standard deviation for them is quite high. Importantly, the dataset queried for this project was from public health laboratories for the stated time frame. Even when a given strain is not reported, that does not mean it isn't circulating. The laboratory can only report a case if one of their samples is positive for it. That means that while the dataset is good at looking for *trends*, it cannot be used to make generalizations about the population. "
   ]
  },
  {
   "cell_type": "markdown",
   "id": "4eee2cd3",
   "metadata": {},
   "source": [
    "###### Case Study 1: Is There a Difference in Dominant Influenza Strains Between Seasons?"
   ]
  },
  {
   "cell_type": "markdown",
   "id": "f9befe88",
   "metadata": {},
   "source": [
    "As part of my first question, I wanted to explore if, and if so how dominant subtypes change by season. To do this, I calculated the sum of positive cases for each category by season using the DataFrame.groupby() function. The table is shown as a reference below with an initial graph to better visualize the data. What stands out with the initial line chart is that the number contains too many strains to visualize appropriately. I went back to my data and broke it into two new frames, one for Influenza A and one for Influenza B."
   ]
  },
  {
   "cell_type": "code",
   "execution_count": null,
   "id": "a28440cf",
   "metadata": {},
   "outputs": [],
   "source": [
    "season_group = df.groupby('Season').sum(numeric_only=True)"
   ]
  },
  {
   "cell_type": "code",
   "execution_count": null,
   "id": "a008aabc",
   "metadata": {},
   "outputs": [],
   "source": [
    "seasons_a = season_group.drop([\"B_Victoria_Lineage\", \"B_Yamagata_Lineage\", \"B_Unspecified_Lineage\"], axis=1)"
   ]
  },
  {
   "cell_type": "code",
   "execution_count": null,
   "id": "77e33279",
   "metadata": {},
   "outputs": [],
   "source": [
    "seasons_a"
   ]
  },
  {
   "cell_type": "code",
   "execution_count": null,
   "id": "2058c05d",
   "metadata": {},
   "outputs": [],
   "source": [
    "seasons_a.plot()"
   ]
  },
  {
   "cell_type": "code",
   "execution_count": null,
   "id": "b53b305e",
   "metadata": {},
   "outputs": [],
   "source": [
    "seasons_a.boxplot()"
   ]
  },
  {
   "cell_type": "markdown",
   "id": "18556454",
   "metadata": {},
   "source": [
    "The illustrations above visually represent changes in Influenza A subtypes by season. The graph demonstrates both the fluctuating nature of flu strains, including a very prominant spike of H1N1 (pdm09) cases in 2009, correlating to the Swine Flu pandemic in that year. "
   ]
  },
  {
   "cell_type": "code",
   "execution_count": null,
   "id": "328c1e7f",
   "metadata": {},
   "outputs": [],
   "source": [
    "seasons_b = season_group.drop([\"A_H1\", \"A_H3\", \"A_H1N1_pdm09\", \"A_H3N2v\",\n",
    "                               \"A_Subtype_not_Available\"], axis=1)"
   ]
  },
  {
   "cell_type": "code",
   "execution_count": null,
   "id": "cde9acbd",
   "metadata": {},
   "outputs": [],
   "source": [
    "seasons_b.plot()"
   ]
  },
  {
   "cell_type": "code",
   "execution_count": null,
   "id": "4e5dc3da",
   "metadata": {},
   "outputs": [],
   "source": [
    "seasons_b.boxplot()"
   ]
  },
  {
   "cell_type": "markdown",
   "id": "314fff08",
   "metadata": {},
   "source": [
    "The visualizations help clarify some of the questions about seasons. On the line chart, subtypes and lineages tend to fluctuate in relative frequency compared to each other. The box plots further demonstrate that there are a number of outliers with many subtypes and lineages, especially H3 Influenza and Swine Flu. Using additional statistics to see whether this difference is statistically significant will be helpful in future analyses. "
   ]
  },
  {
   "cell_type": "markdown",
   "id": "74d8a322",
   "metadata": {},
   "source": [
    "###### Case Study 2: COVID-19 Impacts on Flu Cases and Influenza B Yamagata Lineage"
   ]
  },
  {
   "cell_type": "markdown",
   "id": "8adfb5e2",
   "metadata": {},
   "source": [
    "The line charts above were suggestive of a change in case numbers for the 2020 and 2021 Flu seasons, so I explored the nature of these differences in as a case study."
   ]
  },
  {
   "cell_type": "code",
   "execution_count": null,
   "id": "c14127fa",
   "metadata": {},
   "outputs": [],
   "source": [
    "pandemic_a = seasons_a.loc[[\"2019\", \"2020\", \"2021\", \"2022\"]]"
   ]
  },
  {
   "cell_type": "code",
   "execution_count": null,
   "id": "0b0c1540",
   "metadata": {},
   "outputs": [],
   "source": [
    "pandemic_a"
   ]
  },
  {
   "cell_type": "markdown",
   "id": "d69baed0",
   "metadata": {},
   "source": [
    "The table is a slice of years before and after the pandemic also demonstrates how outside factors can affect circulating flu strains. Prior to the COVID-19 pandemic, the predominant strain was H1N1 (pdm09). There was a dramatic drop in 2020, possibly attributed, at least in part, to increased social distancing and stay at home orders. Following 2020, H3 Influenza became the most predominant and positive influenza results have risen to similar levels seen before the pandemic. A line graph below provides a visualization for the trend."
   ]
  },
  {
   "cell_type": "code",
   "execution_count": null,
   "id": "87db5658",
   "metadata": {},
   "outputs": [],
   "source": [
    "pandemic_a.plot()"
   ]
  },
  {
   "cell_type": "code",
   "execution_count": null,
   "id": "d3f7e6b9",
   "metadata": {
    "scrolled": true
   },
   "outputs": [],
   "source": [
    "pandemic_b = seasons_b.loc[[\"2019\", \"2020\", \"2021\", \"2022\"]]"
   ]
  },
  {
   "cell_type": "code",
   "execution_count": null,
   "id": "dceec669",
   "metadata": {},
   "outputs": [],
   "source": [
    "pandemic_b"
   ]
  },
  {
   "cell_type": "code",
   "execution_count": null,
   "id": "76f855f9",
   "metadata": {},
   "outputs": [],
   "source": [
    "pandemic_b.plot()"
   ]
  },
  {
   "cell_type": "markdown",
   "id": "6bdb20c3",
   "metadata": {},
   "source": [
    "Furthermore, there is an interesting trend when comparing the time period 2019-2022. While both strains were less frequently detected in 2020, the following years saw a return to typical case numbers. The outlier to this trend is the Influenza B Yamagata Lineage. \n",
    "\n",
    "The World Health Organization's program, FluNet, collects data on influenza from around the globe. Researchers studying global trends have observed the significant decline in the Yamagata lineage elsewhere. While more data is needed, many researchers suggest that the COVID-19 pandemic resulted in the extinction of the Yamagata Lineage [3, 4]. "
   ]
  },
  {
   "cell_type": "markdown",
   "id": "ae439708",
   "metadata": {},
   "source": [
    "###### Case Study 3:  Is There a Difference in Dominant Influenza Strains Between Age Groups?"
   ]
  },
  {
   "cell_type": "code",
   "execution_count": null,
   "id": "51937629",
   "metadata": {},
   "outputs": [],
   "source": [
    "grouped_ages = df.groupby('Age_Group').sum(numeric_only=True)"
   ]
  },
  {
   "cell_type": "code",
   "execution_count": null,
   "id": "981b08a8",
   "metadata": {},
   "outputs": [],
   "source": [
    "grouped_ages"
   ]
  },
  {
   "cell_type": "code",
   "execution_count": null,
   "id": "af43353e",
   "metadata": {},
   "outputs": [],
   "source": [
    "a_ages = grouped_ages.drop([\"B_Victoria_Lineage\", \"B_Yamagata_Lineage\", \"B_Unspecified_Lineage\"], axis=1)"
   ]
  },
  {
   "cell_type": "code",
   "execution_count": null,
   "id": "7618285d",
   "metadata": {},
   "outputs": [],
   "source": [
    "a_ages.plot.bar(stacked=True)"
   ]
  },
  {
   "cell_type": "markdown",
   "id": "5ea33fe5",
   "metadata": {},
   "source": [
    "It seems that in all age groups, H3 Influenza and H1N1pdm09 Influenza are generally the most common subtypes. A noteworthy difference is in H1N1pdm09 diagnosis in people over the age of 65. In that group, it seems that H3 Influenza is much more common. Researchers have observed that for pandemic Swine Flu, younger people were disproportionately affected with severe disease. It seems at least that higher proportions of cases are seen in younger age groups, following that trend."
   ]
  },
  {
   "cell_type": "code",
   "execution_count": null,
   "id": "bc83ea61",
   "metadata": {},
   "outputs": [],
   "source": [
    "b_ages = grouped_ages.drop([\"A_H1\", \"A_H3\", \"A_H1N1_pdm09\", \"A_H3N2v\", \"A_Subtype_not_Available\"], axis=1)"
   ]
  },
  {
   "cell_type": "code",
   "execution_count": null,
   "id": "d936efd1",
   "metadata": {},
   "outputs": [],
   "source": [
    "b_ages"
   ]
  },
  {
   "cell_type": "code",
   "execution_count": null,
   "id": "46c826b5",
   "metadata": {},
   "outputs": [],
   "source": [
    "b_ages.plot.bar(stacked=True)"
   ]
  },
  {
   "cell_type": "markdown",
   "id": "2a169175",
   "metadata": {},
   "source": [
    "In contrast to influenza A, there seem to be similar proportions for each Lineage. Further statistical analysis would help uncover whether or not the differences are statistically significant."
   ]
  },
  {
   "cell_type": "markdown",
   "id": "6693e8c6",
   "metadata": {},
   "source": [
    "###### Discussion"
   ]
  },
  {
   "cell_type": "markdown",
   "id": "46a1be85",
   "metadata": {},
   "source": [
    "###### Conclusions"
   ]
  },
  {
   "cell_type": "markdown",
   "id": "9d63ce26",
   "metadata": {},
   "source": [
    "In summary, using the available information I make the following arguments:\n",
    "1) Dominant Influenza subtype seems to vary for Influenza A, with H1N1 (pdm09), H3, and H1 influenza being the most common subtypes. Dynamics are less clear for Influenza B, but seem to support that after 2015, the predominant lineage alternates between Victoria and Yamagata.\n",
    "2) There was a precipitous drop in positive influenza tests near the pandemic. Most strains have seen a resurgence,but the Yamagata Lineage is  either dormant or extinct. \n",
    "3) There appear to be some differences in predominant influenza subtypes between age groups, particularly for people who are 65+"
   ]
  },
  {
   "cell_type": "markdown",
   "id": "c193aee6",
   "metadata": {},
   "source": [
    "###### Limitations"
   ]
  },
  {
   "cell_type": "markdown",
   "id": "646e20c4",
   "metadata": {},
   "source": [
    "This data used a constrained dataset from the CDC's FluView tool only. Importantly, the CDC relies on data reporting from many public health laboratories to make the dataset. Therefore, the number of participating laboratories vary from season to season. As such, extrapolations to the general population are limited. \n",
    "\n",
    "There exist a wealth of resources publicly available on the internet. The CDC Wonder database provides data on mortality statistics, including Influenza mortality. The WHO also monitors Influenza on a more global level, providing a wealth of data from different countries. Incorporating these sources into the dataset may provide yet more insight. "
   ]
  },
  {
   "cell_type": "markdown",
   "id": "8d9e248c",
   "metadata": {},
   "source": [
    "###### Future Avenues"
   ]
  },
  {
   "cell_type": "markdown",
   "id": "d22beeb0",
   "metadata": {},
   "source": [
    "Future avenues for Influenza data exploration include:\n",
    "1) Incorporation of global Influenza and Influenza mortality for further analysis\n",
    "2) Advanced statistical analysis"
   ]
  },
  {
   "cell_type": "markdown",
   "id": "f88ff2dc",
   "metadata": {},
   "source": [
    "###### References"
   ]
  },
  {
   "cell_type": "markdown",
   "id": "b707f518",
   "metadata": {},
   "source": [
    "[1] Monto, A. S., & Fukuda, K. (2020). Lessons from influenza pandemics of the last 100 years. Clinical Infectious Diseases, 70(5), 951-957.\n",
    "[2] Harrington, W. N., Kackos, C. M., & Webby, R. J. (2021). The evolution and future of influenza pandemic preparedness. Experimental & molecular medicine, 53(5), 737-749.\n",
    "[3] Koutsakos, M., Wheatley, A. K., Laurie, K., Kent, S. J., & Rockman, S. (2021). Influenza lineage extinction during the COVID-19 pandemic?. Nature Reviews Microbiology, 19(12), 741-742.\n",
    "[4]Dhanasekaran, V., Sullivan, S., Edwards, K. M., Xie, R., Khvorov, A., Valkenburg, S. A., ... & Barr, I. G. (2022). Human seasonal influenza under COVID-19 and the potential consequences of influenza lineage elimination. Nature communications, 13(1), 1721."
   ]
  }
 ],
 "metadata": {
  "kernelspec": {
   "display_name": "Python 3 (ipykernel)",
   "language": "python",
   "name": "python3"
  },
  "language_info": {
   "codemirror_mode": {
    "name": "ipython",
    "version": 3
   },
   "file_extension": ".py",
   "mimetype": "text/x-python",
   "name": "python",
   "nbconvert_exporter": "python",
   "pygments_lexer": "ipython3",
   "version": "3.11.5"
  }
 },
 "nbformat": 4,
 "nbformat_minor": 5
}
